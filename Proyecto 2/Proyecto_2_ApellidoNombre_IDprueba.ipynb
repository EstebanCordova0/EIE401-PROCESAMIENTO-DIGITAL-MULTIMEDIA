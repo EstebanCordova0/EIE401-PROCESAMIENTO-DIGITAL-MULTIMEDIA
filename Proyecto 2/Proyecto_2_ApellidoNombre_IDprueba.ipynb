{
 "cells": [
  {
   "cell_type": "markdown",
   "id": "0a22500b-75f6-4e9e-bff8-e2166e04bd6a",
   "metadata": {},
   "source": [
    "<h1><center>\n",
    "\n",
    "</center></h1>\n",
    "<font size=\"6\"><center>\n",
    "EIE 401\n",
    "PROCESAMIENTO DIGITAL MULTIMEDIA \n",
    "</center></font>"
   ]
  },
  {
   "cell_type": "markdown",
   "id": "4bb821ab-49e9-40ef-8ecd-d491bba9452c",
   "metadata": {},
   "source": [
    "\n",
    "<center><h2>Proyecto 2</h2></center>\n",
    "<center><h3>Procesamiento digital de señales</h3></center>\n",
    "<center><h3>Profesor: Jorge Cardenas</h3></center>\n",
    "\n",
    "<center><h3>Por: _______</h3></center>\n",
    "<center><h5>Pontificia Universidad Catolica de Valparaiso</h5></center>\n",
    " "
   ]
  },
  {
   "cell_type": "code",
   "execution_count": 1,
   "id": "215c84a4",
   "metadata": {},
   "outputs": [],
   "source": [
    "from IPython.display import IFrame, display\n",
    "#filepath = \"Proyecto_2_EIE401.pdf\"\n",
    "#IFrame(filepath, width=700, height=400)"
   ]
  },
  {
   "cell_type": "markdown",
   "id": "c63b11e7",
   "metadata": {},
   "source": [
    "En la dirección https://huggingface.co/datasets/astroboy1/metasurfaces_V1_30-90GHZ encontrarás el archivo batch_june2024.zip que contiene las imagenes que usarás para el procesamiento. ATENCION: usa el archivo zip indicado pues tienes las imagenes preparadas para tu trabajo."
   ]
  },
  {
   "cell_type": "markdown",
   "id": "f0889ee3-d16b-49e3-be4b-a4c94f28701d",
   "metadata": {},
   "source": [
    "## 1. Carga de Datos\n"
   ]
  },
  {
   "cell_type": "markdown",
   "id": "567bb56f",
   "metadata": {},
   "source": [
    "- En los archivos, encontrarás un folder con imagenes de 3 categorías: cross, box, circle.\n",
    "Cada imagen tiene una medida de 512x512 pixeles y 3 canales. Se han acentuado los azules y rojos para facilitar el proceso de obtención de características.\n",
    "\n",
    "- Puedes extraer la clase a la que pertenece la imagen, desde el nombre del archivo. Ahí mismo encuentras números de serie que te permiten identificar de forma específica una imagen.\n",
    "\n",
    "- Se te entrega 3 imagenes de referencia de 32x32 pixeles, las que debes usar como plantilla para el proceso de clasificación de la imagen.\n"
   ]
  },
  {
   "cell_type": "code",
   "execution_count": null,
   "id": "d0ab6ee5-d7a3-4cf7-9aee-1d1a76b5525f",
   "metadata": {
    "tags": []
   },
   "outputs": [],
   "source": [
    "import os\n",
    "import zipfile\n",
    "import cv2\n",
    "import numpy as np\n",
    "import matplotlib.pyplot as plt\n",
    "import time\n",
    "from collections import defaultdict\n",
    "from PIL import Image\n",
    "\n",
    "# Función para leer una imagen en escala de grises\n",
    "def leer_imagen_gris(ruta):\n",
    "    imagen = cv2.imread(ruta, cv2.IMREAD_GRAYSCALE)\n",
    "    if imagen is None:\n",
    "        raise FileNotFoundError(f\"No se pudo cargar la imagen: {ruta}\")\n",
    "    return imagen\n",
    "\n",
    "\n",
    "# 2. Cargar imágenes desde ZIP sin convertir aún\n",
    "zip_path = 'batch_june2024.zip'\n",
    "images = []\n",
    "\n",
    "with zipfile.ZipFile(zip_path, 'r') as zip_ref:\n",
    "    file_list = [f for f in zip_ref.namelist() if f.lower().endswith(('.png', '.jpg', '.jpeg'))]\n",
    "    for file_name in file_list:\n",
    "        with zip_ref.open(file_name) as file:\n",
    "            img = Image.open(file).convert('RGB')  # Mantener color por ahora\n",
    "            images.append((file_name, img))\n",
    "\n",
    "# Cargar las plantillas desde el mismo directorio del script\n",
    "plantilla_circ = leer_imagen_gris('circ_template.png')\n",
    "plantilla_box = leer_imagen_gris('box_template.png')\n",
    "plantilla_cross = leer_imagen_gris('cross_template.png')"
   ]
  },
  {
   "cell_type": "markdown",
   "id": "28db8b8d",
   "metadata": {},
   "source": [
    "## 2. Transformar imagen\n",
    "Recuerda que la tarea es lograr el procesamiento más rápido posible.\n",
    "Para lograr esto, realiza las operaciones que consideres necesarias sobre la imagen original para el posterior trabajo de Matching con las plantillas dadas. Crees que trabajar en el dominio de fourier o wavelet ayudaría en las etapas posteriores?"
   ]
  },
  {
   "cell_type": "code",
   "execution_count": 2,
   "id": "3cf800d9",
   "metadata": {},
   "outputs": [],
   "source": [
    "# Realiza un filtrado y binarización adaptativa a una imagen en escala de grises\n",
    "def preparar_imagen(img):\n",
    "    suavizada = cv2.bilateralFilter(img, d=1, sigmaColor=75, sigmaSpace=50)  # Suaviza bordes sin perder detalles\n",
    "    umbralizada = cv2.adaptiveThreshold(\n",
    "        suavizada,\n",
    "        maxValue=255,\n",
    "        adaptiveMethod=cv2.ADAPTIVE_THRESH_GAUSSIAN_C,\n",
    "        thresholdType=cv2.THRESH_BINARY,\n",
    "        blockSize=25,\n",
    "        C=15\n",
    "    )\n",
    "    return umbralizada"
   ]
  },
  {
   "cell_type": "markdown",
   "id": "c64b67c8",
   "metadata": {},
   "source": [
    "## 3. Operaciones\n",
    "Para extraer las caracteristicas, debes realizar las operaciones de segmentación, normalización o convolución como creas necesarias.\n",
    "El resultado de tus operaciones vas a usarlo para el proceso de matching.\n"
   ]
  },
  {
   "cell_type": "code",
   "execution_count": 17,
   "id": "21dfeff2",
   "metadata": {},
   "outputs": [],
   "source": [
    "# Comparar una imagen con una plantilla mediante correlación cruzada normalizada\n",
    "def correlacion_cruzada_normalizada(region, patron):\n",
    "    resultado = cv2.matchTemplate(region, patron, cv2.TM_CCORR_NORMED)\n",
    "    _, valor_maximo, _, posicion_max = cv2.minMaxLoc(resultado)\n",
    "    return posicion_max, valor_maximo, resultado"
   ]
  },
  {
   "cell_type": "code",
   "execution_count": 15,
   "id": "16275ac1",
   "metadata": {},
   "outputs": [],
   "source": [
    "# Secciona la imagen en sus cuatro regiones: superior izquierda, superior derecha, inferior derecha, inferior izquierda\n",
    "def seccionar_en_cuartos(imagen):\n",
    "    h, w = imagen.shape[:2]\n",
    "    h_m, w_m = h // 2, w // 2\n",
    "\n",
    "    regiones = {\n",
    "        \"sup_izq\": imagen[0:h_m, 0:w_m],\n",
    "        \"sup_der\": imagen[0:h_m, w_m:],\n",
    "        \"inf_der\": imagen[h_m:, w_m:],\n",
    "        \"inf_izq\": imagen[h_m:, 0:w_m]\n",
    "    }\n",
    "    return regiones\n",
    "\n",
    "# Gira una imagen en sentido horario o antihorario según el ángulo dado (90, 180, 270)\n",
    "def girar_imagen(plantilla, grados):\n",
    "    if grados == 90:\n",
    "        return cv2.rotate(plantilla, cv2.ROTATE_90_CLOCKWISE)\n",
    "    elif grados == 180:\n",
    "        return cv2.rotate(plantilla, cv2.ROTATE_180)\n",
    "    elif grados == 270:\n",
    "        return cv2.rotate(plantilla, cv2.ROTATE_90_COUNTERCLOCKWISE)\n",
    "    else:\n",
    "        return plantilla"
   ]
  },
  {
   "cell_type": "code",
   "execution_count": 14,
   "id": "6667e0a0",
   "metadata": {},
   "outputs": [],
   "source": [
    "# Función para transformar la imagen a escala de grises con suavizado\n",
    "def transformar_imagen_en_grises(imagen_rgb):\n",
    "    imagen_gray = cv2.cvtColor(imagen_rgb, cv2.COLOR_RGB2GRAY)\n",
    "\n",
    "    return imagen_gray\n",
    "\n",
    "# Lista de imágenes tipo (nombre_archivo, imagen_PIL) que tú ya tienes\n",
    "# Ejemplo: images = [(\"img1.jpg\", Image.open(\"ruta/a/img1.jpg\")), ...]\n",
    "\n",
    "imagenes_preprocesadas = []\n",
    "\n",
    "# Procesar las imágenes\n",
    "for nombre, imagen_pil in images:\n",
    "    imagen_np = np.array(imagen_pil)  # Convertir a NumPy array\n",
    "    imagen_proc = transformar_imagen_en_grises(imagen_np)\n",
    "    imagenes_preprocesadas.append((nombre, imagen_proc))\n",
    "\n",
    "# Crear carpeta de salida si no existe\n",
    "os.makedirs('imagenes2', exist_ok=True)\n",
    "\n",
    "# Guardar las imágenes procesadas\n",
    "for nombre, imagen_proc in imagenes_preprocesadas:\n",
    "    nombre_base = os.path.basename(nombre)\n",
    "    ruta_salida = os.path.join('imagenes2', nombre_base)\n",
    "    Image.fromarray(imagen_proc).save(ruta_salida)"
   ]
  },
  {
   "attachments": {
    "6850d57c-7e6f-4acf-ac3b-d9a8feb071cb.png": {
     "image/png": "[encoded data removed]"
    }
   },
   "cell_type": "markdown",
   "id": "55e692dd",
   "metadata": {},
   "source": [
    "## 4. Matching\n",
    "El proceso de matching debe considerar que vas a usar las imagenes de referencia para calcular la correlación\n",
    "\n",
    "![image.png](attachment:6850d57c-7e6f-4acf-ac3b-d9a8feb071cb.png)\n",
    "\n",
    "Este proceso es similar a un windowing, donde la ventana es la imagen de referencia. \n",
    "Como verás es un proceso iterativo, dispendioso, pero en el que puedes poner tu creatividad a funcionar para lograrlo de forma eficiente.\n",
    "\n",
    "#### _TIP: realiza el proceso un batch pequeño de imagenes, o solo sobre un par de ellas, hasta que estés satisfecho con el resultado. Una vez esté listo, ESCALA el procedimiento para operar todas la imagenes lo más rápido posible.!_"
   ]
  },
  {
   "cell_type": "code",
   "execution_count": 30,
   "id": "8e7dfee1",
   "metadata": {},
   "outputs": [
    {
     "name": "stdout",
     "output_type": "stream",
     "text": [
      "Tiempo total de ejecución: 113.88 segundos\n"
     ]
    }
   ],
   "source": [
    "ruta_carpeta = 'imagenes2'  # Verifica que esta ruta exista, si no cambia a 'processed 512'\n",
    "registros = []\n",
    "\n",
    "matriz_confusion = {\n",
    "    \"box\": {\"box\": 0, \"circ\": 0, \"cross\": 0},\n",
    "    \"circ\": {\"box\": 0, \"circ\": 0, \"cross\": 0},\n",
    "    \"cross\": {\"box\": 0, \"circ\": 0, \"cross\": 0}\n",
    "}\n",
    "\n",
    "inicio = time.time()\n",
    "\n",
    "for archivo in os.listdir(ruta_carpeta):\n",
    "    if archivo.lower().endswith(('.png', '.jpg')):\n",
    "        ruta_img = os.path.join(ruta_carpeta, archivo)\n",
    "        imagen = cv2.imread(ruta_img, cv2.IMREAD_UNCHANGED) \n",
    "\n",
    "        partes = archivo.split('_')\n",
    "        if len(partes) < 3:\n",
    "            print(f\"Nombre de archivo inesperado, se omite: {archivo}\")\n",
    "            continue\n",
    "\n",
    "        clase_real = partes[0]\n",
    "        identificador = partes[2]\n",
    "\n",
    "        zonas = seccionar_en_cuartos(imagen)\n",
    "\n",
    "        zonas_preproc = {nombre: preparar_imagen(cuadro) for nombre, cuadro in zonas.items()}\n",
    "        temp_circ_proc = preparar_imagen(plantilla_circ)\n",
    "        temp_box_proc = preparar_imagen(plantilla_box)\n",
    "        temp_cross_proc = preparar_imagen(plantilla_cross)\n",
    "\n",
    "        giros_por_zona = {\n",
    "            \"sup_izq\": 0,\n",
    "            \"sup_der\": 90,\n",
    "            \"inf_der\": 180,\n",
    "            \"inf_izq\": 270\n",
    "        }\n",
    "\n",
    "        suma_circ = 0\n",
    "        suma_box = 0\n",
    "        suma_cross = 0\n",
    "        total_zonas = 0\n",
    "\n",
    "        for nombre_zona, imagen_zona in zonas_preproc.items():\n",
    "            ang = giros_por_zona.get(nombre_zona, 0)  # Por si hay zona no esperada\n",
    "\n",
    "            circ_rot = girar_imagen(temp_circ_proc, ang)\n",
    "            box_rot = girar_imagen(temp_box_proc, ang)\n",
    "            cross_rot = girar_imagen(temp_cross_proc, ang)\n",
    "\n",
    "            _, val_circ, _ = correlacion_cruzada_normalizada(imagen_zona, circ_rot)\n",
    "            _, val_box, _ = correlacion_cruzada_normalizada(imagen_zona, box_rot)\n",
    "            _, val_cross, _ = correlacion_cruzada_normalizada(imagen_zona, cross_rot)\n",
    "\n",
    "            suma_circ += val_circ\n",
    "            suma_box += val_box\n",
    "            suma_cross += val_cross\n",
    "            total_zonas += 1\n",
    "\n",
    "        prom_circ = suma_circ / total_zonas if total_zonas else 0\n",
    "        prom_box = suma_box / total_zonas if total_zonas else 0\n",
    "        prom_cross = suma_cross / total_zonas if total_zonas else 0\n",
    "\n",
    "        if prom_circ > prom_box and prom_circ > prom_cross:\n",
    "            clase_predicha = \"circ\"\n",
    "        elif prom_box > prom_circ and prom_box > prom_cross:\n",
    "            clase_predicha = \"box\"\n",
    "        else:\n",
    "            clase_predicha = \"cross\"\n",
    "\n",
    "        registros.append({\n",
    "            \"Archivo\": archivo,\n",
    "            \"Etiqueta Real\": clase_real,\n",
    "            \"ID\": identificador,\n",
    "            \"Promedio NCC - Círculo\": prom_circ,\n",
    "            \"Promedio NCC - Cuadro\": prom_box,\n",
    "            \"Promedio NCC - Cruz\": prom_cross,\n",
    "            \"Resultado\": clase_predicha\n",
    "        })\n",
    "\n",
    "        matriz_confusion[clase_real][clase_predicha] += 1\n",
    "\n",
    "fin = time.time()\n",
    "print(f\"Tiempo total de ejecución: {fin - inicio:.2f} segundos\")\n",
    "\n"
   ]
  },
  {
   "cell_type": "markdown",
   "id": "550b44f5",
   "metadata": {
    "tags": []
   },
   "source": [
    "# 5. Clasificación\n",
    "De cada operación realizada de matching, obtendrás valores para inferir si la imagen bajo estudio corresponde con alguna de las 3 categorías: cross, box, circle.\n",
    "\n",
    "Debes almacenar cada resultado obtenido para cada imagen, hallar el error de clasificación y generar un informe del error general al clasificar todas las imagenes."
   ]
  },
  {
   "cell_type": "markdown",
   "id": "50606ff2-b6ab-4b75-9292-ca6dfd1f2cf3",
   "metadata": {
    "tags": []
   },
   "source": [
    "Presenta aquí el resultado de clasificación numérico, así como  dos ejemplos verdaderos y dos ejemplos falsos de imagenes clasificadas.\n"
   ]
  },
  {
   "cell_type": "code",
   "execution_count": 31,
   "id": "bb4107d2",
   "metadata": {},
   "outputs": [
    {
     "name": "stdout",
     "output_type": "stream",
     "text": [
      "Real \\ Pred    box   circ  cross \n",
      "       box   3700    289      0 \n",
      "      circ      0   4416      0 \n",
      "     cross    452     78   5393 \n",
      "\n",
      "Error de clasificación global: 5.72%\n"
     ]
    }
   ],
   "source": [
    "labels = list(matriz_confusion.keys())\n",
    "values = np.array([[matriz_confusion[label][pred] for pred in matriz_confusion[label]] for label in labels])\n",
    "\n",
    "# Imprimir encabezado con etiquetas predichas\n",
    "print(f\"{'Real \\\\ Pred':>10}\", end=\" \")\n",
    "for pred in labels:\n",
    "    print(f\"{pred:>6}\", end=\" \")\n",
    "print()\n",
    "\n",
    "# Imprimir filas con etiqueta real y valores de predicción\n",
    "for i, real in enumerate(labels):\n",
    "    print(f\"{real:>10}\", end=\" \")\n",
    "    for j in range(len(labels)):\n",
    "        print(f\"{values[i, j]:6d}\", end=\" \")\n",
    "    print()\n",
    "\n",
    "# También puedes calcular y mostrar la tasa de error global (opcional)\n",
    "total = values.sum()\n",
    "correctos = np.trace(values)\n",
    "error_rate = 100 * (1 - correctos / total)\n",
    "print(f\"\\nError de clasificación global: {error_rate:.2f}%\")"
   ]
  },
  {
   "cell_type": "code",
   "execution_count": 36,
   "id": "d1bd9471",
   "metadata": {},
   "outputs": [
    {
     "name": "stdout",
     "output_type": "stream",
     "text": [
      "Error de clasificación global: 5.72%\n",
      "\n",
      "Error de clasificación para la clase 'box': 7.24%\n",
      "Error de clasificación para la clase 'circ': 0.00%\n",
      "Error de clasificación para la clase 'cross': 8.95%\n",
      "\n",
      "Ejemplos correctos:\n",
      "Clase real: box - Clase inferida: box\n",
      "Clase real: box - Clase inferida: box\n",
      "Clase real: circ - Clase inferida: circ\n",
      "Clase real: circ - Clase inferida: circ\n",
      "Clase real: cross - Clase inferida: cross\n",
      "Clase real: cross - Clase inferida: cross\n",
      "\n",
      "Ejemplos incorrectos:\n",
      "Clase real: box - Clase inferida: circ\n",
      "Clase real: box - Clase inferida: circ\n",
      "Clase real: cross - Clase inferida: box\n",
      "Clase real: cross - Clase inferida: box\n"
     ]
    }
   ],
   "source": [
    "# Agrupar ejemplos correctos e incorrectos por clase real\n",
    "correctos_por_clase = defaultdict(list)\n",
    "incorrectos_por_clase = defaultdict(list)\n",
    "\n",
    "for r in registros:\n",
    "    if r[\"Etiqueta Real\"] == r[\"Resultado\"]:\n",
    "        correctos_por_clase[r[\"Etiqueta Real\"]].append(r)\n",
    "    else:\n",
    "        incorrectos_por_clase[r[\"Etiqueta Real\"]].append(r)\n",
    "\n",
    "total_registros = len(registros)\n",
    "total_incorrectos = sum(len(incorrectos_por_clase[c]) for c in incorrectos_por_clase)\n",
    "porcentaje_error = 100 * total_incorrectos / total_registros if total_registros else 0\n",
    "print(f\"Error de clasificación global: {porcentaje_error:.2f}%\\n\")\n",
    "\n",
    "# Porcentaje de error por clase\n",
    "for clase in [\"box\", \"circ\", \"cross\"]:\n",
    "    total_clase = len(correctos_por_clase.get(clase, [])) + len(incorrectos_por_clase.get(clase, []))\n",
    "    incorrectos_clase = len(incorrectos_por_clase.get(clase, []))\n",
    "    porcentaje_error_clase = 100 * incorrectos_clase / total_clase if total_clase else 0\n",
    "    print(f\"Error de clasificación para la clase '{clase}': {porcentaje_error_clase:.2f}%\")\n",
    "\n",
    "print(\"\\nEjemplos correctos:\")\n",
    "for clase in [\"box\", \"circ\", \"cross\"]:\n",
    "    ejemplos = correctos_por_clase.get(clase, [])\n",
    "    for r in ejemplos[:2]:  # hasta 2 ejemplos por clase\n",
    "        print(f\"Clase real: {r['Etiqueta Real']} - Clase inferida: {r['Resultado']}\")\n",
    "\n",
    "print(\"\\nEjemplos incorrectos:\")\n",
    "for clase in [\"box\", \"circ\", \"cross\"]:\n",
    "    ejemplos = incorrectos_por_clase.get(clase, [])\n",
    "    for r in ejemplos[:2]:  # hasta 2 ejemplos por clase\n",
    "        print(f\"Clase real: {r['Etiqueta Real']} - Clase inferida: {r['Resultado']}\")\n"
   ]
  },
  {
   "cell_type": "code",
   "execution_count": 38,
   "id": "0e3e10ff",
   "metadata": {},
   "outputs": [
    {
     "data": {
      "image/png": "[encoded data removed]",
      "text/plain": [
       "<Figure size 1200x400 with 3 Axes>"
      ]
     },
     "metadata": {},
     "output_type": "display_data"
    },
    {
     "data": {
      "image/png": "[encoded data removed]",
      "text/plain": [
       "<Figure size 1000x500 with 2 Axes>"
      ]
     },
     "metadata": {},
     "output_type": "display_data"
    },
    {
     "data": {
      "image/png": "[encoded data removed]",
      "text/plain": [
       "<Figure size 1000x500 with 2 Axes>"
      ]
     },
     "metadata": {},
     "output_type": "display_data"
    }
   ],
   "source": [
    "# Mostrar templates\n",
    "fig, axs = plt.subplots(1, 3, figsize=(12, 4))\n",
    "axs[0].imshow(plantilla_circ, cmap='gray')\n",
    "axs[0].set_title(\"Template Circ\")\n",
    "axs[0].axis('off')\n",
    "\n",
    "axs[1].imshow(plantilla_box, cmap='gray')\n",
    "axs[1].set_title(\"Template box\")\n",
    "axs[1].axis('off')\n",
    "\n",
    "axs[2].imshow(plantilla_cross, cmap='gray')\n",
    "axs[2].set_title(\"Template Cross\")\n",
    "axs[2].axis('off')\n",
    "plt.show()\n",
    "# Variables que deben estar definidas: registros, ruta_carpeta\n",
    "\n",
    "correctos = []\n",
    "incorrectos = []\n",
    "\n",
    "for registro in registros:\n",
    "    if registro[\"Etiqueta Real\"] == registro[\"Resultado\"]:\n",
    "        if len(correctos) < 2:\n",
    "            correctos.append(registro)\n",
    "    else:\n",
    "        if len(incorrectos) < 2:\n",
    "            incorrectos.append(registro)\n",
    "    if len(correctos) == 2 and len(incorrectos) == 2:\n",
    "        break\n",
    "\n",
    "def mostrar_imagenes(lista_registros, titulo):\n",
    "    plt.figure(figsize=(10, 5))\n",
    "    for i, reg in enumerate(lista_registros):\n",
    "        ruta_img = os.path.join(ruta_carpeta, reg[\"Archivo\"])\n",
    "        img = cv2.imread(ruta_img)\n",
    "        if img is None:\n",
    "            print(f\"No se pudo cargar la imagen: {reg['Archivo']}\")\n",
    "            continue\n",
    "        img = cv2.cvtColor(img, cv2.COLOR_BGR2RGB)  # Convertir a RGB para matplotlib\n",
    "        plt.subplot(1, len(lista_registros), i + 1)\n",
    "        plt.imshow(img)\n",
    "        plt.title(f\"Real: {reg['Etiqueta Real']}\\nPred: {reg['Resultado']}\")\n",
    "        plt.axis('off')\n",
    "    plt.suptitle(titulo)\n",
    "    plt.show()\n",
    "\n",
    "mostrar_imagenes(correctos, \"Imágenes Correctamente Clasificadas\")\n",
    "mostrar_imagenes(incorrectos, \"Imágenes Incorrectamente Clasificadas\")"
   ]
  },
  {
   "cell_type": "markdown",
   "id": "3add46e0-f5e2-4a20-8830-3e795f78d2a0",
   "metadata": {},
   "source": [
    "# 6. Medición\n",
    "Recuerda que debes imprimir el tiempo que tarda tu algoritmo en procesar todas las imagenes en la base de datos. Usa el siguiente fragmento de código, ubicando el inicio y fin donde corresponda.\n",
    "\n",
    "\n",
    "\n"
   ]
  },
  {
   "cell_type": "code",
   "execution_count": 37,
   "id": "bd8e1005-2576-4d78-93eb-3a3124f5394c",
   "metadata": {},
   "outputs": [
    {
     "name": "stdout",
     "output_type": "stream",
     "text": [
      "Tiempo total de ejecución: 113.88 segundos\n",
      "Tiempo total de ejecución: 1 minutos y 53.88 segundos\n"
     ]
    }
   ],
   "source": [
    "print(f\"Tiempo total de ejecución: {fin - inicio:.2f} segundos\")\n",
    "\n",
    "tiempo_segundos = fin - inicio\n",
    "minutos = int(tiempo_segundos // 60)\n",
    "segundos = tiempo_segundos % 60\n",
    "\n",
    "print(f\"Tiempo total de ejecución: {minutos} minutos y {segundos:.2f} segundos\")\n"
   ]
  }
 ],
 "metadata": {
  "kernelspec": {
   "display_name": "Python 3",
   "language": "python",
   "name": "python3"
  },
  "language_info": {
   "codemirror_mode": {
    "name": "ipython",
    "version": 3
   },
   "file_extension": ".py",
   "mimetype": "text/x-python",
   "name": "python",
   "nbconvert_exporter": "python",
   "pygments_lexer": "ipython3",
   "version": "3.12.10"
  }
 },
 "nbformat": 4,
 "nbformat_minor": 5
}
